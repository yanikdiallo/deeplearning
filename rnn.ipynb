{
  "nbformat": 4,
  "nbformat_minor": 0,
  "metadata": {
    "colab": {
      "provenance": [],
      "gpuType": "T4"
    },
    "kernelspec": {
      "name": "python3",
      "display_name": "Python 3"
    },
    "language_info": {
      "name": "python"
    },
    "accelerator": "GPU"
  },
  "cells": [
    {
      "cell_type": "code",
      "execution_count": 12,
      "metadata": {
        "id": "dML0Bz1JRzfi"
      },
      "outputs": [],
      "source": [
        "# importer les packages\n",
        "import pandas as pd\n",
        "import numpy as np\n",
        "import matplotlib.pyplot as plt\n",
        "import seaborn as sn\n",
        "import tensorflow\n",
        "from sklearn.preprocessing import MinMaxScaler\n",
        "from sklearn.metrics import mean_squared_error\n",
        "\n",
        "from tensorflow.keras.models import Sequential\n",
        "from tensorflow.keras.layers import Dense\n",
        "\n",
        "from tensorflow.keras.layers import LSTM"
      ]
    },
    {
      "cell_type": "code",
      "source": [
        "# Ouvrir la base de donnes\n",
        "df = pd.read_csv('/content/AirPassengers.csv')"
      ],
      "metadata": {
        "id": "Y-pl0EKRVW_D"
      },
      "execution_count": 2,
      "outputs": []
    },
    {
      "cell_type": "code",
      "source": [
        "df.head()"
      ],
      "metadata": {
        "colab": {
          "base_uri": "https://localhost:8080/",
          "height": 206
        },
        "id": "CbXeo5RjVvGk",
        "outputId": "00cfd139-2e55-468c-d9e6-94566cfc4811"
      },
      "execution_count": 4,
      "outputs": [
        {
          "output_type": "execute_result",
          "data": {
            "text/plain": [
              "     Month  #Passengers\n",
              "0  1949-01          112\n",
              "1  1949-02          118\n",
              "2  1949-03          132\n",
              "3  1949-04          129\n",
              "4  1949-05          121"
            ],
            "text/html": [
              "\n",
              "  <div id=\"df-2a209d8c-ed5d-4862-9652-c58266bfd0f0\" class=\"colab-df-container\">\n",
              "    <div>\n",
              "<style scoped>\n",
              "    .dataframe tbody tr th:only-of-type {\n",
              "        vertical-align: middle;\n",
              "    }\n",
              "\n",
              "    .dataframe tbody tr th {\n",
              "        vertical-align: top;\n",
              "    }\n",
              "\n",
              "    .dataframe thead th {\n",
              "        text-align: right;\n",
              "    }\n",
              "</style>\n",
              "<table border=\"1\" class=\"dataframe\">\n",
              "  <thead>\n",
              "    <tr style=\"text-align: right;\">\n",
              "      <th></th>\n",
              "      <th>Month</th>\n",
              "      <th>#Passengers</th>\n",
              "    </tr>\n",
              "  </thead>\n",
              "  <tbody>\n",
              "    <tr>\n",
              "      <th>0</th>\n",
              "      <td>1949-01</td>\n",
              "      <td>112</td>\n",
              "    </tr>\n",
              "    <tr>\n",
              "      <th>1</th>\n",
              "      <td>1949-02</td>\n",
              "      <td>118</td>\n",
              "    </tr>\n",
              "    <tr>\n",
              "      <th>2</th>\n",
              "      <td>1949-03</td>\n",
              "      <td>132</td>\n",
              "    </tr>\n",
              "    <tr>\n",
              "      <th>3</th>\n",
              "      <td>1949-04</td>\n",
              "      <td>129</td>\n",
              "    </tr>\n",
              "    <tr>\n",
              "      <th>4</th>\n",
              "      <td>1949-05</td>\n",
              "      <td>121</td>\n",
              "    </tr>\n",
              "  </tbody>\n",
              "</table>\n",
              "</div>\n",
              "    <div class=\"colab-df-buttons\">\n",
              "\n",
              "  <div class=\"colab-df-container\">\n",
              "    <button class=\"colab-df-convert\" onclick=\"convertToInteractive('df-2a209d8c-ed5d-4862-9652-c58266bfd0f0')\"\n",
              "            title=\"Convert this dataframe to an interactive table.\"\n",
              "            style=\"display:none;\">\n",
              "\n",
              "  <svg xmlns=\"http://www.w3.org/2000/svg\" height=\"24px\" viewBox=\"0 -960 960 960\">\n",
              "    <path d=\"M120-120v-720h720v720H120Zm60-500h600v-160H180v160Zm220 220h160v-160H400v160Zm0 220h160v-160H400v160ZM180-400h160v-160H180v160Zm440 0h160v-160H620v160ZM180-180h160v-160H180v160Zm440 0h160v-160H620v160Z\"/>\n",
              "  </svg>\n",
              "    </button>\n",
              "\n",
              "  <style>\n",
              "    .colab-df-container {\n",
              "      display:flex;\n",
              "      gap: 12px;\n",
              "    }\n",
              "\n",
              "    .colab-df-convert {\n",
              "      background-color: #E8F0FE;\n",
              "      border: none;\n",
              "      border-radius: 50%;\n",
              "      cursor: pointer;\n",
              "      display: none;\n",
              "      fill: #1967D2;\n",
              "      height: 32px;\n",
              "      padding: 0 0 0 0;\n",
              "      width: 32px;\n",
              "    }\n",
              "\n",
              "    .colab-df-convert:hover {\n",
              "      background-color: #E2EBFA;\n",
              "      box-shadow: 0px 1px 2px rgba(60, 64, 67, 0.3), 0px 1px 3px 1px rgba(60, 64, 67, 0.15);\n",
              "      fill: #174EA6;\n",
              "    }\n",
              "\n",
              "    .colab-df-buttons div {\n",
              "      margin-bottom: 4px;\n",
              "    }\n",
              "\n",
              "    [theme=dark] .colab-df-convert {\n",
              "      background-color: #3B4455;\n",
              "      fill: #D2E3FC;\n",
              "    }\n",
              "\n",
              "    [theme=dark] .colab-df-convert:hover {\n",
              "      background-color: #434B5C;\n",
              "      box-shadow: 0px 1px 3px 1px rgba(0, 0, 0, 0.15);\n",
              "      filter: drop-shadow(0px 1px 2px rgba(0, 0, 0, 0.3));\n",
              "      fill: #FFFFFF;\n",
              "    }\n",
              "  </style>\n",
              "\n",
              "    <script>\n",
              "      const buttonEl =\n",
              "        document.querySelector('#df-2a209d8c-ed5d-4862-9652-c58266bfd0f0 button.colab-df-convert');\n",
              "      buttonEl.style.display =\n",
              "        google.colab.kernel.accessAllowed ? 'block' : 'none';\n",
              "\n",
              "      async function convertToInteractive(key) {\n",
              "        const element = document.querySelector('#df-2a209d8c-ed5d-4862-9652-c58266bfd0f0');\n",
              "        const dataTable =\n",
              "          await google.colab.kernel.invokeFunction('convertToInteractive',\n",
              "                                                    [key], {});\n",
              "        if (!dataTable) return;\n",
              "\n",
              "        const docLinkHtml = 'Like what you see? Visit the ' +\n",
              "          '<a target=\"_blank\" href=https://colab.research.google.com/notebooks/data_table.ipynb>data table notebook</a>'\n",
              "          + ' to learn more about interactive tables.';\n",
              "        element.innerHTML = '';\n",
              "        dataTable['output_type'] = 'display_data';\n",
              "        await google.colab.output.renderOutput(dataTable, element);\n",
              "        const docLink = document.createElement('div');\n",
              "        docLink.innerHTML = docLinkHtml;\n",
              "        element.appendChild(docLink);\n",
              "      }\n",
              "    </script>\n",
              "  </div>\n",
              "\n",
              "\n",
              "<div id=\"df-21df8d2e-eb09-4b3c-ab6e-165cce22979b\">\n",
              "  <button class=\"colab-df-quickchart\" onclick=\"quickchart('df-21df8d2e-eb09-4b3c-ab6e-165cce22979b')\"\n",
              "            title=\"Suggest charts\"\n",
              "            style=\"display:none;\">\n",
              "\n",
              "<svg xmlns=\"http://www.w3.org/2000/svg\" height=\"24px\"viewBox=\"0 0 24 24\"\n",
              "     width=\"24px\">\n",
              "    <g>\n",
              "        <path d=\"M19 3H5c-1.1 0-2 .9-2 2v14c0 1.1.9 2 2 2h14c1.1 0 2-.9 2-2V5c0-1.1-.9-2-2-2zM9 17H7v-7h2v7zm4 0h-2V7h2v10zm4 0h-2v-4h2v4z\"/>\n",
              "    </g>\n",
              "</svg>\n",
              "  </button>\n",
              "\n",
              "<style>\n",
              "  .colab-df-quickchart {\n",
              "      --bg-color: #E8F0FE;\n",
              "      --fill-color: #1967D2;\n",
              "      --hover-bg-color: #E2EBFA;\n",
              "      --hover-fill-color: #174EA6;\n",
              "      --disabled-fill-color: #AAA;\n",
              "      --disabled-bg-color: #DDD;\n",
              "  }\n",
              "\n",
              "  [theme=dark] .colab-df-quickchart {\n",
              "      --bg-color: #3B4455;\n",
              "      --fill-color: #D2E3FC;\n",
              "      --hover-bg-color: #434B5C;\n",
              "      --hover-fill-color: #FFFFFF;\n",
              "      --disabled-bg-color: #3B4455;\n",
              "      --disabled-fill-color: #666;\n",
              "  }\n",
              "\n",
              "  .colab-df-quickchart {\n",
              "    background-color: var(--bg-color);\n",
              "    border: none;\n",
              "    border-radius: 50%;\n",
              "    cursor: pointer;\n",
              "    display: none;\n",
              "    fill: var(--fill-color);\n",
              "    height: 32px;\n",
              "    padding: 0;\n",
              "    width: 32px;\n",
              "  }\n",
              "\n",
              "  .colab-df-quickchart:hover {\n",
              "    background-color: var(--hover-bg-color);\n",
              "    box-shadow: 0 1px 2px rgba(60, 64, 67, 0.3), 0 1px 3px 1px rgba(60, 64, 67, 0.15);\n",
              "    fill: var(--button-hover-fill-color);\n",
              "  }\n",
              "\n",
              "  .colab-df-quickchart-complete:disabled,\n",
              "  .colab-df-quickchart-complete:disabled:hover {\n",
              "    background-color: var(--disabled-bg-color);\n",
              "    fill: var(--disabled-fill-color);\n",
              "    box-shadow: none;\n",
              "  }\n",
              "\n",
              "  .colab-df-spinner {\n",
              "    border: 2px solid var(--fill-color);\n",
              "    border-color: transparent;\n",
              "    border-bottom-color: var(--fill-color);\n",
              "    animation:\n",
              "      spin 1s steps(1) infinite;\n",
              "  }\n",
              "\n",
              "  @keyframes spin {\n",
              "    0% {\n",
              "      border-color: transparent;\n",
              "      border-bottom-color: var(--fill-color);\n",
              "      border-left-color: var(--fill-color);\n",
              "    }\n",
              "    20% {\n",
              "      border-color: transparent;\n",
              "      border-left-color: var(--fill-color);\n",
              "      border-top-color: var(--fill-color);\n",
              "    }\n",
              "    30% {\n",
              "      border-color: transparent;\n",
              "      border-left-color: var(--fill-color);\n",
              "      border-top-color: var(--fill-color);\n",
              "      border-right-color: var(--fill-color);\n",
              "    }\n",
              "    40% {\n",
              "      border-color: transparent;\n",
              "      border-right-color: var(--fill-color);\n",
              "      border-top-color: var(--fill-color);\n",
              "    }\n",
              "    60% {\n",
              "      border-color: transparent;\n",
              "      border-right-color: var(--fill-color);\n",
              "    }\n",
              "    80% {\n",
              "      border-color: transparent;\n",
              "      border-right-color: var(--fill-color);\n",
              "      border-bottom-color: var(--fill-color);\n",
              "    }\n",
              "    90% {\n",
              "      border-color: transparent;\n",
              "      border-bottom-color: var(--fill-color);\n",
              "    }\n",
              "  }\n",
              "</style>\n",
              "\n",
              "  <script>\n",
              "    async function quickchart(key) {\n",
              "      const quickchartButtonEl =\n",
              "        document.querySelector('#' + key + ' button');\n",
              "      quickchartButtonEl.disabled = true;  // To prevent multiple clicks.\n",
              "      quickchartButtonEl.classList.add('colab-df-spinner');\n",
              "      try {\n",
              "        const charts = await google.colab.kernel.invokeFunction(\n",
              "            'suggestCharts', [key], {});\n",
              "      } catch (error) {\n",
              "        console.error('Error during call to suggestCharts:', error);\n",
              "      }\n",
              "      quickchartButtonEl.classList.remove('colab-df-spinner');\n",
              "      quickchartButtonEl.classList.add('colab-df-quickchart-complete');\n",
              "    }\n",
              "    (() => {\n",
              "      let quickchartButtonEl =\n",
              "        document.querySelector('#df-21df8d2e-eb09-4b3c-ab6e-165cce22979b button');\n",
              "      quickchartButtonEl.style.display =\n",
              "        google.colab.kernel.accessAllowed ? 'block' : 'none';\n",
              "    })();\n",
              "  </script>\n",
              "</div>\n",
              "\n",
              "    </div>\n",
              "  </div>\n"
            ],
            "application/vnd.google.colaboratory.intrinsic+json": {
              "type": "dataframe",
              "variable_name": "df",
              "summary": "{\n  \"name\": \"df\",\n  \"rows\": 144,\n  \"fields\": [\n    {\n      \"column\": \"Month\",\n      \"properties\": {\n        \"dtype\": \"object\",\n        \"num_unique_values\": 144,\n        \"samples\": [\n          \"1958-10\",\n          \"1950-08\",\n          \"1955-11\"\n        ],\n        \"semantic_type\": \"\",\n        \"description\": \"\"\n      }\n    },\n    {\n      \"column\": \"#Passengers\",\n      \"properties\": {\n        \"dtype\": \"number\",\n        \"std\": 119,\n        \"min\": 104,\n        \"max\": 622,\n        \"num_unique_values\": 118,\n        \"samples\": [\n          293,\n          340,\n          121\n        ],\n        \"semantic_type\": \"\",\n        \"description\": \"\"\n      }\n    }\n  ]\n}"
            }
          },
          "metadata": {},
          "execution_count": 4
        }
      ]
    },
    {
      "cell_type": "code",
      "source": [
        "data = df.iloc[:,1].values"
      ],
      "metadata": {
        "id": "tgsZYQN-VygN"
      },
      "execution_count": 5,
      "outputs": []
    },
    {
      "cell_type": "code",
      "source": [
        "data"
      ],
      "metadata": {
        "colab": {
          "base_uri": "https://localhost:8080/"
        },
        "id": "3scmUaCTWKIf",
        "outputId": "af066d2d-b87c-42ee-da7a-2434fcb66ee8"
      },
      "execution_count": 6,
      "outputs": [
        {
          "output_type": "execute_result",
          "data": {
            "text/plain": [
              "array([112, 118, 132, 129, 121, 135, 148, 148, 136, 119, 104, 118, 115,\n",
              "       126, 141, 135, 125, 149, 170, 170, 158, 133, 114, 140, 145, 150,\n",
              "       178, 163, 172, 178, 199, 199, 184, 162, 146, 166, 171, 180, 193,\n",
              "       181, 183, 218, 230, 242, 209, 191, 172, 194, 196, 196, 236, 235,\n",
              "       229, 243, 264, 272, 237, 211, 180, 201, 204, 188, 235, 227, 234,\n",
              "       264, 302, 293, 259, 229, 203, 229, 242, 233, 267, 269, 270, 315,\n",
              "       364, 347, 312, 274, 237, 278, 284, 277, 317, 313, 318, 374, 413,\n",
              "       405, 355, 306, 271, 306, 315, 301, 356, 348, 355, 422, 465, 467,\n",
              "       404, 347, 305, 336, 340, 318, 362, 348, 363, 435, 491, 505, 404,\n",
              "       359, 310, 337, 360, 342, 406, 396, 420, 472, 548, 559, 463, 407,\n",
              "       362, 405, 417, 391, 419, 461, 472, 535, 622, 606, 508, 461, 390,\n",
              "       432])"
            ]
          },
          "metadata": {},
          "execution_count": 6
        }
      ]
    },
    {
      "cell_type": "code",
      "source": [
        "# Preparation de la base de donnees\n",
        "scaler = MinMaxScaler(feature_range=(0,1))\n",
        "data = scaler.fit_transform(data.reshape(-1,1))"
      ],
      "metadata": {
        "id": "kRXNlJiWWZSy"
      },
      "execution_count": 64,
      "outputs": []
    },
    {
      "cell_type": "code",
      "source": [
        "# diviser les donnes\n",
        "X_data = []\n",
        "y_data = []\n",
        "for i in range(12,len(data)):\n",
        "  X_data.append(data[i-12:i,0])\n",
        "  y_data.append(data[i,0])\n"
      ],
      "metadata": {
        "id": "VpI8foVZXXgh"
      },
      "execution_count": 65,
      "outputs": []
    },
    {
      "cell_type": "code",
      "source": [
        "\n",
        "#REshaping\n",
        "X_data = np.array(X_data)\n",
        "y_data = np.array(y_data)\n",
        "X_data = np.reshape(X_data,(X_data.shape[0],X_data.shape[1],1))\n"
      ],
      "metadata": {
        "id": "ZiYaOp76ZYzX"
      },
      "execution_count": 67,
      "outputs": []
    },
    {
      "cell_type": "code",
      "source": [
        "\n",
        "X_data.shape"
      ],
      "metadata": {
        "colab": {
          "base_uri": "https://localhost:8080/"
        },
        "id": "V36mA5P7a8Ep",
        "outputId": "071ca20f-fe3b-4572-a9b1-73651d94cab7"
      },
      "execution_count": 34,
      "outputs": [
        {
          "output_type": "execute_result",
          "data": {
            "text/plain": [
              "(143, 0, 1)"
            ]
          },
          "metadata": {},
          "execution_count": 34
        }
      ]
    },
    {
      "cell_type": "code",
      "source": [
        "#separer les donnes\n",
        "train_size = int(len(X_data)*0.8)\n",
        "test_size = len(X_data)-train_size\n",
        "train_size,test_size\n",
        "X_train,X_test = X_data[0:train_size],X_data[train_size:len(X_data)]\n",
        "y_train,y_test = y_data[0:train_size],y_data[train_size:len(X_data)]\n",
        "print(len(X_train),len(y_train))\n",
        "print(len(X_test),len(y_test))\n"
      ],
      "metadata": {
        "colab": {
          "base_uri": "https://localhost:8080/"
        },
        "id": "-xq8PkMEa-uQ",
        "outputId": "ce225c4b-8793-40a6-c4c4-078e28dd6f50"
      },
      "execution_count": 68,
      "outputs": [
        {
          "output_type": "stream",
          "name": "stdout",
          "text": [
            "105 105\n",
            "27 27\n"
          ]
        }
      ]
    },
    {
      "cell_type": "code",
      "source": [
        "X_train = X_data[0:train_size,:]\n",
        "y_train = y_data[0:train_size]\n",
        "\n",
        "X_test = X_data[train_size:len(X_data),:]\n",
        "y_test = y_data[train_size:len(X_data)]"
      ],
      "metadata": {
        "id": "wZI-rcWJew2J"
      },
      "execution_count": 36,
      "outputs": []
    },
    {
      "cell_type": "code",
      "source": [
        "# Constru_ction du model\n",
        "model = Sequential()\n",
        "model.add(LSTM(4,input_shape=(12,1)))\n",
        "model.add(Dense(1))\n",
        "model.compile(loss='mean_squared_error',optimizer='adam')\n",
        "model.fit(X_train,y_train,epochs=100,batch_size=1,verbose=2)"
      ],
      "metadata": {
        "colab": {
          "base_uri": "https://localhost:8080/"
        },
        "id": "hxrALeaKjEe1",
        "outputId": "25cbd351-d7b5-42a3-f8e6-2461c1873234"
      },
      "execution_count": 70,
      "outputs": [
        {
          "output_type": "stream",
          "name": "stdout",
          "text": [
            "Epoch 1/100\n",
            "105/105 - 3s - 25ms/step - loss: 0.0424\n",
            "Epoch 2/100\n",
            "105/105 - 0s - 3ms/step - loss: 0.0137\n",
            "Epoch 3/100\n",
            "105/105 - 0s - 3ms/step - loss: 0.0101\n",
            "Epoch 4/100\n",
            "105/105 - 0s - 3ms/step - loss: 0.0081\n",
            "Epoch 5/100\n",
            "105/105 - 0s - 3ms/step - loss: 0.0073\n",
            "Epoch 6/100\n",
            "105/105 - 0s - 3ms/step - loss: 0.0066\n",
            "Epoch 7/100\n",
            "105/105 - 0s - 3ms/step - loss: 0.0064\n",
            "Epoch 8/100\n",
            "105/105 - 0s - 3ms/step - loss: 0.0061\n",
            "Epoch 9/100\n",
            "105/105 - 0s - 3ms/step - loss: 0.0065\n",
            "Epoch 10/100\n",
            "105/105 - 0s - 3ms/step - loss: 0.0061\n",
            "Epoch 11/100\n",
            "105/105 - 0s - 3ms/step - loss: 0.0061\n",
            "Epoch 12/100\n",
            "105/105 - 0s - 3ms/step - loss: 0.0059\n",
            "Epoch 13/100\n",
            "105/105 - 0s - 3ms/step - loss: 0.0059\n",
            "Epoch 14/100\n",
            "105/105 - 0s - 3ms/step - loss: 0.0059\n",
            "Epoch 15/100\n",
            "105/105 - 0s - 3ms/step - loss: 0.0057\n",
            "Epoch 16/100\n",
            "105/105 - 0s - 3ms/step - loss: 0.0061\n",
            "Epoch 17/100\n",
            "105/105 - 0s - 3ms/step - loss: 0.0057\n",
            "Epoch 18/100\n",
            "105/105 - 0s - 3ms/step - loss: 0.0058\n",
            "Epoch 19/100\n",
            "105/105 - 0s - 3ms/step - loss: 0.0058\n",
            "Epoch 20/100\n",
            "105/105 - 0s - 3ms/step - loss: 0.0057\n",
            "Epoch 21/100\n",
            "105/105 - 1s - 7ms/step - loss: 0.0060\n",
            "Epoch 22/100\n",
            "105/105 - 1s - 5ms/step - loss: 0.0055\n",
            "Epoch 23/100\n",
            "105/105 - 1s - 6ms/step - loss: 0.0053\n",
            "Epoch 24/100\n",
            "105/105 - 1s - 9ms/step - loss: 0.0051\n",
            "Epoch 25/100\n",
            "105/105 - 0s - 3ms/step - loss: 0.0050\n",
            "Epoch 26/100\n",
            "105/105 - 0s - 3ms/step - loss: 0.0054\n",
            "Epoch 27/100\n",
            "105/105 - 0s - 3ms/step - loss: 0.0053\n",
            "Epoch 28/100\n",
            "105/105 - 0s - 3ms/step - loss: 0.0052\n",
            "Epoch 29/100\n",
            "105/105 - 0s - 3ms/step - loss: 0.0050\n",
            "Epoch 30/100\n",
            "105/105 - 0s - 3ms/step - loss: 0.0050\n",
            "Epoch 31/100\n",
            "105/105 - 0s - 3ms/step - loss: 0.0049\n",
            "Epoch 32/100\n",
            "105/105 - 0s - 3ms/step - loss: 0.0050\n",
            "Epoch 33/100\n",
            "105/105 - 0s - 3ms/step - loss: 0.0049\n",
            "Epoch 34/100\n",
            "105/105 - 0s - 3ms/step - loss: 0.0049\n",
            "Epoch 35/100\n",
            "105/105 - 0s - 3ms/step - loss: 0.0047\n",
            "Epoch 36/100\n",
            "105/105 - 0s - 3ms/step - loss: 0.0046\n",
            "Epoch 37/100\n",
            "105/105 - 0s - 3ms/step - loss: 0.0052\n",
            "Epoch 38/100\n",
            "105/105 - 0s - 3ms/step - loss: 0.0046\n",
            "Epoch 39/100\n",
            "105/105 - 0s - 3ms/step - loss: 0.0044\n",
            "Epoch 40/100\n",
            "105/105 - 1s - 6ms/step - loss: 0.0047\n",
            "Epoch 41/100\n",
            "105/105 - 0s - 3ms/step - loss: 0.0047\n",
            "Epoch 42/100\n",
            "105/105 - 0s - 3ms/step - loss: 0.0044\n",
            "Epoch 43/100\n",
            "105/105 - 0s - 3ms/step - loss: 0.0043\n",
            "Epoch 44/100\n",
            "105/105 - 0s - 3ms/step - loss: 0.0041\n",
            "Epoch 45/100\n",
            "105/105 - 0s - 3ms/step - loss: 0.0041\n",
            "Epoch 46/100\n",
            "105/105 - 0s - 3ms/step - loss: 0.0042\n",
            "Epoch 47/100\n",
            "105/105 - 0s - 3ms/step - loss: 0.0040\n",
            "Epoch 48/100\n",
            "105/105 - 0s - 3ms/step - loss: 0.0041\n",
            "Epoch 49/100\n",
            "105/105 - 0s - 3ms/step - loss: 0.0036\n",
            "Epoch 50/100\n",
            "105/105 - 0s - 3ms/step - loss: 0.0039\n",
            "Epoch 51/100\n",
            "105/105 - 0s - 3ms/step - loss: 0.0034\n",
            "Epoch 52/100\n",
            "105/105 - 0s - 3ms/step - loss: 0.0038\n",
            "Epoch 53/100\n",
            "105/105 - 0s - 3ms/step - loss: 0.0038\n",
            "Epoch 54/100\n",
            "105/105 - 0s - 3ms/step - loss: 0.0034\n",
            "Epoch 55/100\n",
            "105/105 - 0s - 3ms/step - loss: 0.0033\n",
            "Epoch 56/100\n",
            "105/105 - 1s - 6ms/step - loss: 0.0035\n",
            "Epoch 57/100\n",
            "105/105 - 1s - 6ms/step - loss: 0.0030\n",
            "Epoch 58/100\n",
            "105/105 - 1s - 6ms/step - loss: 0.0032\n",
            "Epoch 59/100\n",
            "105/105 - 1s - 5ms/step - loss: 0.0033\n",
            "Epoch 60/100\n",
            "105/105 - 0s - 3ms/step - loss: 0.0028\n",
            "Epoch 61/100\n",
            "105/105 - 0s - 3ms/step - loss: 0.0031\n",
            "Epoch 62/100\n",
            "105/105 - 0s - 3ms/step - loss: 0.0029\n",
            "Epoch 63/100\n",
            "105/105 - 0s - 3ms/step - loss: 0.0028\n",
            "Epoch 64/100\n",
            "105/105 - 0s - 3ms/step - loss: 0.0028\n",
            "Epoch 65/100\n",
            "105/105 - 0s - 3ms/step - loss: 0.0026\n",
            "Epoch 66/100\n",
            "105/105 - 0s - 3ms/step - loss: 0.0026\n",
            "Epoch 67/100\n",
            "105/105 - 0s - 3ms/step - loss: 0.0027\n",
            "Epoch 68/100\n",
            "105/105 - 0s - 3ms/step - loss: 0.0024\n",
            "Epoch 69/100\n",
            "105/105 - 0s - 3ms/step - loss: 0.0027\n",
            "Epoch 70/100\n",
            "105/105 - 0s - 3ms/step - loss: 0.0023\n",
            "Epoch 71/100\n",
            "105/105 - 0s - 4ms/step - loss: 0.0024\n",
            "Epoch 72/100\n",
            "105/105 - 1s - 5ms/step - loss: 0.0022\n",
            "Epoch 73/100\n",
            "105/105 - 1s - 6ms/step - loss: 0.0022\n",
            "Epoch 74/100\n",
            "105/105 - 0s - 4ms/step - loss: 0.0022\n",
            "Epoch 75/100\n",
            "105/105 - 1s - 5ms/step - loss: 0.0022\n",
            "Epoch 76/100\n",
            "105/105 - 0s - 3ms/step - loss: 0.0019\n",
            "Epoch 77/100\n",
            "105/105 - 1s - 6ms/step - loss: 0.0020\n",
            "Epoch 78/100\n",
            "105/105 - 0s - 3ms/step - loss: 0.0021\n",
            "Epoch 79/100\n",
            "105/105 - 0s - 3ms/step - loss: 0.0022\n",
            "Epoch 80/100\n",
            "105/105 - 0s - 3ms/step - loss: 0.0022\n",
            "Epoch 81/100\n",
            "105/105 - 0s - 3ms/step - loss: 0.0023\n",
            "Epoch 82/100\n",
            "105/105 - 0s - 3ms/step - loss: 0.0020\n",
            "Epoch 83/100\n",
            "105/105 - 0s - 3ms/step - loss: 0.0021\n",
            "Epoch 84/100\n",
            "105/105 - 0s - 3ms/step - loss: 0.0022\n",
            "Epoch 85/100\n",
            "105/105 - 0s - 3ms/step - loss: 0.0020\n",
            "Epoch 86/100\n",
            "105/105 - 0s - 3ms/step - loss: 0.0020\n",
            "Epoch 87/100\n",
            "105/105 - 0s - 4ms/step - loss: 0.0022\n",
            "Epoch 88/100\n",
            "105/105 - 1s - 5ms/step - loss: 0.0024\n",
            "Epoch 89/100\n",
            "105/105 - 0s - 4ms/step - loss: 0.0023\n",
            "Epoch 90/100\n",
            "105/105 - 0s - 4ms/step - loss: 0.0017\n",
            "Epoch 91/100\n",
            "105/105 - 0s - 4ms/step - loss: 0.0020\n",
            "Epoch 92/100\n",
            "105/105 - 0s - 4ms/step - loss: 0.0022\n",
            "Epoch 93/100\n",
            "105/105 - 0s - 4ms/step - loss: 0.0021\n",
            "Epoch 94/100\n",
            "105/105 - 1s - 5ms/step - loss: 0.0019\n",
            "Epoch 95/100\n",
            "105/105 - 0s - 3ms/step - loss: 0.0022\n",
            "Epoch 96/100\n",
            "105/105 - 0s - 3ms/step - loss: 0.0021\n",
            "Epoch 97/100\n",
            "105/105 - 0s - 3ms/step - loss: 0.0021\n",
            "Epoch 98/100\n",
            "105/105 - 0s - 3ms/step - loss: 0.0020\n",
            "Epoch 99/100\n",
            "105/105 - 0s - 3ms/step - loss: 0.0020\n",
            "Epoch 100/100\n",
            "105/105 - 0s - 3ms/step - loss: 0.0020\n"
          ]
        },
        {
          "output_type": "execute_result",
          "data": {
            "text/plain": [
              "<keras.src.callbacks.history.History at 0x7a94e0394250>"
            ]
          },
          "metadata": {},
          "execution_count": 70
        }
      ]
    },
    {
      "cell_type": "code",
      "source": [
        "# Evaluer le model\n",
        "train_predict = model.predict(X_train)\n",
        "test_predict = model.predict(X_test)\n"
      ],
      "metadata": {
        "colab": {
          "base_uri": "https://localhost:8080/"
        },
        "id": "AZR61mqLo4Aq",
        "outputId": "64654d68-ba80-4c39-9ad8-d5527c2121b3"
      },
      "execution_count": 71,
      "outputs": [
        {
          "output_type": "stream",
          "name": "stdout",
          "text": [
            "\u001b[1m4/4\u001b[0m \u001b[32m━━━━━━━━━━━━━━━━━━━━\u001b[0m\u001b[37m\u001b[0m \u001b[1m0s\u001b[0m 48ms/step\n",
            "\u001b[1m1/1\u001b[0m \u001b[32m━━━━━━━━━━━━━━━━━━━━\u001b[0m\u001b[37m\u001b[0m \u001b[1m0s\u001b[0m 19ms/step\n"
          ]
        }
      ]
    },
    {
      "cell_type": "code",
      "source": [
        "# prompt: visualiser les resultat\n",
        "\n",
        "# Inverser la mise à l'échelle pour obtenir les prédictions réelles\n",
        "train_predict = scaler.inverse_transform(train_predict)\n",
        "y_train = scaler.inverse_transform([y_train])\n",
        "test_predict = scaler.inverse_transform(test_predict)\n",
        "y_test = scaler.inverse_transform([y_test])\n",
        "\n",
        "# Calculer l'erreur quadratique moyenne (RMSE)\n",
        "print('Train RMSE: %.2f RMSE' % (np.sqrt(mean_squared_error(y_train[0], train_predict[:,0]))))\n",
        "print('Test RMSE: %.2f RMSE' % (np.sqrt(mean_squared_error(y_test[0], test_predict[:,0]))))\n",
        "\n",
        "\n",
        "# Tracer les résultats\n",
        "plt.plot(y_train[0], label='Données d\\'entraînement réelles')\n",
        "plt.plot(train_predict[:,0], label='Prédictions d\\'entraînement')\n",
        "plt.legend(loc='best')\n",
        "plt.title('Prédictions sur les données d\\'entraînement')\n",
        "plt.show()\n",
        "\n",
        "plt.plot(y_test[0], label='Données de test réelles')\n",
        "plt.plot(test_predict[:,0], label='Prédictions de test')\n",
        "plt.legend(loc='best')\n",
        "plt.title('Prédictions sur les données de test')\n",
        "plt.show()"
      ],
      "metadata": {
        "colab": {
          "base_uri": "https://localhost:8080/",
          "height": 922
        },
        "id": "3J9TqvCny7IN",
        "outputId": "e9e3b07a-f819-4745-e1cd-a64fa5df2672"
      },
      "execution_count": 73,
      "outputs": [
        {
          "output_type": "stream",
          "name": "stdout",
          "text": [
            "Train RMSE: 0.04 RMSE\n",
            "Test RMSE: 0.14 RMSE\n"
          ]
        },
        {
          "output_type": "display_data",
          "data": {
            "text/plain": [
              "<Figure size 640x480 with 1 Axes>"
            ],
            "image/png": "[encoded data removed]"
          },
          "metadata": {}
        },
        {
          "output_type": "display_data",
          "data": {
            "text/plain": [
              "<Figure size 640x480 with 1 Axes>"
            ],
            "image/png": "[encoded data removed]"
          },
          "metadata": {}
        }
      ]
    }
  ]
}